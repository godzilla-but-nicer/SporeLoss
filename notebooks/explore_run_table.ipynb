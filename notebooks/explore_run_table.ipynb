{
 "cells": [
  {
   "cell_type": "code",
   "execution_count": 1,
   "metadata": {},
   "outputs": [],
   "source": [
    "import pandas as pd\n",
    "import matplotlib.pyplot as plt\n",
    "import seaborn as sns"
   ]
  },
  {
   "cell_type": "code",
   "execution_count": 4,
   "metadata": {
    "tags": []
   },
   "outputs": [
    {
     "output_type": "stream",
     "name": "stdout",
     "text": "<class 'pandas.core.frame.DataFrame'>\nRangeIndex: 7889 entries, 0 to 7888\nData columns (total 51 columns):\nRun                                  7889 non-null object\nAssay Type                           7889 non-null object\nassembly_method                      7889 non-null object\nassembly_method_version              7889 non-null object\nAvgSpotLen                           7889 non-null int64\nBases                                7889 non-null int64\nBioProject                           7889 non-null object\nBioSample                            7889 non-null object\nBioSampleModel                       7889 non-null object\nBytes                                7889 non-null int64\nCenter Name                          7889 non-null object\nCollection_Date                      7889 non-null object\ncompleteness_estimated               7889 non-null object\nConsent                              7889 non-null object\ncontamination_estimated              7889 non-null object\nDATASTORE filetype                   7889 non-null object\nDATASTORE provider                   7889 non-null object\nDATASTORE region                     7889 non-null object\nExperiment                           7889 non-null object\ngenome_coverage                      7889 non-null float64\ngeo_loc_name_country                 7889 non-null object\ngeo_loc_name_country_continent       7889 non-null object\ngeo_loc_name                         6249 non-null object\nInstrument                           7889 non-null object\nisolate                              7889 non-null object\nisolation-source                     7889 non-null object\nLibrary Name                         7889 non-null object\nLibraryLayout                        7889 non-null object\nLibrarySelection                     7889 non-null object\nLibrarySource                        7889 non-null object\nmapping_method                       7889 non-null object\nmapping_method_version               7889 non-null object\nmetagenomic                          7889 non-null bool\nOrganism                             7889 non-null object\nPlatform                             7889 non-null object\nquality_assessment_method            7889 non-null object\nquality_assessment_method_version    7889 non-null object\nReleaseDate                          7889 non-null object\nSample Name                          7889 non-null object\nsample_type                          7889 non-null object\nSRA Study                            7889 non-null object\nsubsrc_note                          7889 non-null object\nenvironmental_sample                 7266 non-null object\nmetagenome_source                    7266 non-null object\nvalue                                7266 non-null object\nAssemblyName                         5364 non-null object\nalignment_software (exp)             623 non-null object\nenvironmental-sample                 623 non-null object\nmetagenome-source                    623 non-null object\nnote2                                15 non-null object\nnote                                 8 non-null object\ndtypes: bool(1), float64(1), int64(3), object(46)\nmemory usage: 3.0+ MB\n"
    }
   ],
   "source": [
    "df = pd.read_csv('../data/NCBI_MAGs/Parks_MAGs_metadata.csv')\n",
    "df.info()"
   ]
  },
  {
   "cell_type": "code",
   "execution_count": 10,
   "metadata": {},
   "outputs": [
    {
     "output_type": "execute_result",
     "data": {
      "text/plain": "marine metagenome                        1533\ngut metagenome                           1387\nterrestrial metagenome                   1278\nhydrocarbon metagenome                    597\nfermentation metagenome                   510\nrat gut metagenome                        242\nbioreactor sludge metagenome              198\nmetagenome                                193\nsoil metagenome                           184\nbioreactor metagenome                     117\nbovine gut metagenome                     103\npalm oil mill effluent metagenome          95\nfreshwater metagenome                      91\nwastewater metagenome                      88\nanaerobic digester metagenome              65\ngroundwater metagenome                     55\nbiofilm metagenome                         55\necological metagenome                      54\naquatic metagenome                         51\nhydrothermal vent metagenome               49\ncoral metagenome                           25\nCavia porcellus metagenome                 24\ntermite gut metagenome                     23\nmarine sediment metagenome                 22\nmouse gut metagenome                       21\nNeamphius huxleyi metagenome               20\nsediment metagenome                        20\nbeach sand metagenome                      20\nNoosa River metagenome                     19\nEBPR bioreactor metagenome                 18\nchicken gut metagenome                     17\nmicrobial mat metagenome                   15\nactivated sludge metagenome                15\nfish metagenome                            13\nMaroochydoore River metagenome             10\nLogan River metagenome                      7\nfreshwater sediment metagenome              7\nviral metagenome                            6\nbiogas fermenter metagenome                 4\nCtenopharyngodon idella metagenome          3\nsubsurface metagenome                       3\nhot springs metagenome                      3\nindoor metagenome                           3\nBursaphelenchus xylophilus metagenome       2\nHaliclona cymaeformis metagenome            1\nName: metagenome_source, dtype: int64"
     },
     "metadata": {},
     "execution_count": 10
    }
   ],
   "source": [
    "source_counts = df['metagenome_source'].value_counts()\n",
    "source_counts"
   ]
  },
  {
   "cell_type": "markdown",
   "metadata": {},
   "source": [
    "OK so let's turn this into a smaller number of categories and see what we've got going on\n",
    "-"
   ]
  },
  {
   "cell_type": "code",
   "execution_count": 9,
   "metadata": {},
   "outputs": [
    {
     "output_type": "execute_result",
     "data": {
      "text/plain": "pandas.core.series.Series"
     },
     "metadata": {},
     "execution_count": 9
    }
   ],
   "source": []
  },
  {
   "cell_type": "code",
   "execution_count": null,
   "metadata": {},
   "outputs": [],
   "source": []
  }
 ],
 "metadata": {
  "language_info": {
   "codemirror_mode": {
    "name": "ipython",
    "version": 3
   },
   "file_extension": ".py",
   "mimetype": "text/x-python",
   "name": "python",
   "nbconvert_exporter": "python",
   "pygments_lexer": "ipython3",
   "version": "3.6.10-final"
  },
  "orig_nbformat": 2,
  "kernelspec": {
   "name": "python361064bitmetagenomicsconda1482c9a61cfc44d59615b67a845f975c",
   "display_name": "Python 3.6.10 64-bit ('metagenomics': conda)"
  }
 },
 "nbformat": 4,
 "nbformat_minor": 2
}